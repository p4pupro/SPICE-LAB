{
 "cells": [
  {
   "cell_type": "code",
   "execution_count": 252,
   "metadata": {},
   "outputs": [],
   "source": [
    "# Importando Ipython\n",
    "from IPython import get_ipython"
   ]
  },
  {
   "cell_type": "markdown",
   "metadata": {},
   "source": [
    "#  Objetivo del laboratorio\n",
    "#  El objetivo de la presenta práctica es conocer el estándar de simulación de circuitos [SPICE](http://bwrcs.eecs.berkeley.edu/Classes/IcBook/SPICE) y realizar pequeñas simulaciones en corriente continua con el mismo. SPICE es una forma elegante y sencilla de codificar circuitos eléctricos de manera que puedan ser procesados por un ordenador. Mediante un sencillo lenguaje podemos definir resistencias, fuentes de alimentación, etc., las conexiones entre ellos y los resultados que deseamos obtener.\n",
    " \n",
    "#  El estándar SPICE\n",
    "#  **SPICE** es una abreviabiación de *Simulation Program with Integrated Circtuit Emphasis*.\n",
    "#  Se trata básicamente de un método estándar para describir circuitos usando texto plano en\n",
    "#  lugar de una representación gráfica (o *esquemática*). A esta descripción en texto se\n",
    "#  la llama también **netlist** y básicamente se corresponde con la *lista* de los componentes del circuito y cómo estos están conectados entre sí, es decir, de los nodos de unión.\n",
    "#  Los ficheros netlist pueden tener extensiones `.cir`, `.net`, `.ckt`, ó `.sp` y es muy común encontrárselos con cualquiera de estas.\n",
    " \n",
    "#  Existen en el mercado muchas variantes (intérpretes) de Spice, aunque el original fue descrito\n",
    "#  en la Universidad de Berkeley. En la lista de intérpretes de Spice tenemos desde esfuerzos y proyectos comerciales hasta *open source* y regidos por distintas comunidades de usuarios y programadores.\n",
    " \n",
    "# > **Pregunta:** Enumera todos los intérprete de Spice que puedas encontrar. Crea una tabla en Markdown con varias columnas (para el nombre, fabricante, versión actual, licencia y alguna característica sobresaliente). Aquí tienes un ejemplo del que puedes partir y seguir completando:\n",
    " \n",
    " | Intérprete    |       Licencia      | Fabricante         | Características  |\n",
    " |      :-:      |        :-:          |         :-:        |       :-:        |\n",
    " |   Ahkab       |          GPL        | Giuseppe Venturini | Basado en Python |\n",
    " |   OpenMETA    |   OP MIT License    | Metamorph Software | Basado en Python |\n",
    " |   Partsim     |      RGPL           | AspenCore, Inc.    | Basado en Python |\n",
    " |   OrCAD       |       ATTN          | Cadence, Inc       | Basado en Python |\n",
    " |   NGSPICE     |     GNU Free        | Salesforce         | Basado en Python |\n",
    "\n",
    "#  > **Pregunta:** ¿Qué comparación puedes efectuar entre C y Spice como estándares (lenguajes) y sus respectivas implementaciones en software? ¿Qué implementaciones reales (compiladores) del lenguaje C conoces? \n",
    "\n",
    "  - Tanto **C** como **Spice** son dos estándares referentes en sus campos, C como lenguaje de programación general y Spice como programación más especifica simulación de circuitos eléctronicos, escrito en Fortran y usando en muchos otros programas como motor: LTspice, PSpice, HSpice, Dr. Spice, Spice-It!, ASCO tool, Oregano, Qucs TclSpice. \n",
    "    Igual que lo es **C** que a servido de partida a otros muchos lenguajes. Los Compiladores conocidos y muy utilizados para **C** son Dev C++, Borland C, Turbo C.\n",
    "\n",
    "#  Elementos de un netlist\n",
    "#  Como acabamos de comentar, un netlist se corresponde con la codificación de los elementos electrónicos de un circuito y las uniones entre los mismos. Veamos con más concreción qué partes y secciones lo componen.\n",
    " \n",
    "#  Comentarios\n",
    " \n",
    "#  La primera línea de un netlist se corresponderá siempre con un comentario. A partir de esta línea se pueden introducir más comentarios pero tienen que ir siempre precedidos de un `*`. Ejemplo:\n",
    "#  \n",
    "#  ```spice\n",
    "#  Mi primer circuito\n",
    "#  * Otro comentario\n",
    "#  * más comentarios\n",
    "#  *\n",
    "#  ```\n",
    " \n",
    "#  Dispositivos básicos de un circuito\n",
    "#  Los elementos de un netlist son los mismos que encontramos en cualquier circuito eléctrico sencillo,\n",
    "#  tales como resistencias, **condensadores**, **bobinas**, **interruptores**, **hilos** y **fuentes** de alimentación.\n",
    "#  Para distinguir uno de otro, se reserva una letra característica: `V` para fuentes de alimentación, `R` para resistencias, `C` para condensadores y `L` para bobinas. También es posible usar estas letras en su versión en minúscula (`r`, `v`, `c`, `l`, etc.).\n",
    "#  Después de esta letra característica se puede sufijar cualquier texto para diferenciar un elemento de otro (números, letras, palabras, etc.). Ejemplo:\n",
    "\n",
    "#  ```\n",
    "#  * Una resistencia\n",
    "#  R1\n",
    "#  *  Otra resistencia\n",
    "#  R2\n",
    "#  * Fuente de alimentación\n",
    "#  V\n",
    "#  * Un condensador\n",
    "#  Cprincipal\n",
    "#  ```\n",
    " \n",
    "#  Conexiones\n",
    "#  A continuación de indicar el elemento eléctrico, tenemos que informar a Spice cuáles\n",
    "#  son los puntos de unión tanto a un lado como al otro del elemento.\n",
    "#  Así es como Spice sabe qué está conectado a qué: porque comparten un **punto**\n",
    "#  (o **nodo**, aunque este término se reserva sobretodo a uniones de más de dos elementos)\n",
    "#  que hemos señalizado correctamente. Para nombrar nodos, lo mejor es emplear una\n",
    "#  numeración secuencial: 0...n. **La enumeración de los puntos de unión es completamente\n",
    "#  a nuestro criterio**.\n",
    " \n",
    "#  ```\n",
    "#  * Una resistencia\n",
    "#  * entre cables 0 y 1\n",
    "#  R1 0 1\n",
    "#  ```\n",
    " \n",
    "#  **Sólo es necesario seguir un criterio**: en el caso de una\n",
    "#  fuente de alimentación, el nodo que pondremos primero será\n",
    "#  aquel que está más cerca del *borne* positivo. Ejemplo:\n",
    " \n",
    "#  ```spice\n",
    "#  * Para una fuente indicamos primeramente conexión a nodo positivo.\n",
    "#  v 2 3 type=vdc vdc=1\n",
    "#  ```\n",
    "  \n",
    "# En el *caso de LTspice* no es necesario indicar los parámetros `type=vdc` y `vdc=X`, sino que si no se especifica nada, se supone que el último valor es el del voltaje a corriente continua:\n",
    " \n",
    "# ```spice\n",
    "# * Especificación de una fuente de alimentación de 10 V en corrient continua en el caso de LTspice\n",
    "# v 0 1 10\n",
    "# ```\n",
    " \n",
    "# Aquí tienes un ejemplo gráfico de los componentes comentados justo arriba (resistencia y voltaje):\n",
    " \n",
    "# ![](https://raw.githubusercontent.com/pammacdotnet/spicelab/master/resistencia%20y%20pila%20con%20nodos.svg?sanitize=true)\n",
    " \n",
    "# Unidades en SPICE\n",
    "\n",
    "#  Las unidades de las magnitudes características del circuito son siempre [unidades\n",
    "#  del Sistema Internacional](https://en.wikipedia.org/wiki/SI_electromagnetism_units) y no es necesario indicarlo explícitamente en el netlist.\n",
    "\n",
    "#  La forma de especificar múltiplos de estas cantidades es añadiendo una letra.\n",
    "#  Básicamente las que nos interesan y las que suelen aparecer mayoritariamente son `k` para \"kilo-,\" `m` para \"mili?\" y `u` para \"micro?\".\n",
    " \n",
    "#  > **Pregunta:** Crea una tabla en Markdown con todos los prefijos de múltiplos que puedas, su abreviatura y su equivalencia numérica.\n",
    " \n",
    "   | ETIQUETA   |  PERFIJO  | CANTIDAD    |\n",
    "    |   :-:     |   :-:     |    :-:      | \t \t\t\n",
    "    |   K \t\t|\tkilo\t| 10$^{3}$    |\n",
    "    |   MG \t    |\tmega    | 10$^{6}$    |\n",
    "    |   G \t\t|\tgiga    | 10$^{9}$    |\n",
    "    |   T \t\t|\ttera    | 10$^{12}$   |\n",
    "    |   m \t\t|\tmili    | 10$^{-3}$   |\n",
    "    |   u \t\t|\tmicro   | 10$^{-6}$   |\n",
    "    |   n \t\t|\tnano    | 10$^{-9}$   |\n",
    "    |   p \t\t|\tpico    | 10$^{-12}$  |\n",
    "    |   f \t\t|\tfemto   | 10$^{-15}$  |\n",
    "\n",
    "\n",
    "- Use MG para especiﬁcar . Y no solo m\n",
    "\n",
    "#  En el caso de las fuentes de alimentación hemos de especificar si se trata de corriente contínua (`vdc`) o alterna (`ac`).\n",
    "\n",
    "#  ```\n",
    "#  * Una resistencia de 5 Ohmios\n",
    "#  R2 1 0 5\n",
    "#  * Una pila de 10 Voltios (continua)\n",
    "#  V1 1 0 type=vdc vdc=10\n",
    "#  * Una resistencia de 5 kΩ\n",
    "#  RX 2 4 5k\n",
    "#  ```\n",
    "\n",
    "#  > **Pregunta**: ¿qué unidades del Sistema Internacional relacionadas con la asignatura –y los circuitos en general– conoces? Responde aquí mismo en una celda de Markdown con una tabla.\n",
    "    \n",
    "     \t\t\t\t\n",
    "   |   Nombre   |  Unidad SI   |   Símbolo    |   Magnitud   | Ejemplo en circuitos  |\n",
    "   |    :-:     |     :-:      |     :-:      |     :-:      |          :-:          |\n",
    "   |    Ohmio    |     Ω       |      R       | Resistencia eléctrica   |  Resistencia          |\n",
    "   |    Amperio  |     A       |      I       | Intensidad de corriente eléctrica | $$ \\frac {voltio}{resistencia}$$ |\n",
    "   |    Voltio   |     V       |      V       | Tensión eléctrica y diferencia de potencial | Fuente de Alimentación |\n",
    "   |    Henrio   |     H       |      L       | Inductancia             | Bobina                |\n",
    "   |    Faradio  |     F       |      C       | Capacitancia            | Condensador           |\n",
    "   |    Hercio   |     f       |      Hz      | Frecuencia              | Cristal de cuarzo     |\n",
    "   |    Tiempo   |     s       |      t       | constante de tiempo     | Tiempo de carga de un condensador |\n",
    "   |    Velocidad de la luz |  v    | c       | Velocidad de la luz     | Corriente             |\n",
    "   |    Potencia |     W       |      P       | Potencia                | De un circuito        |\n",
    "   |    Tesla    |     T       |      B       | Campo magnético         | Electro-imán          |\n",
    "   |    Cº       |     t       |      ºC      | Temperatura Celsius     | Resistencia           |\n",
    "   |    Culombio |     c       |      Q       | Carga eléctrica         | Fuente alimentación   |\n",
    "   |    Siemens  |     S       |      G       | Conductancia eléctrica  | Hilo o pistas         |\n",
    "   |    Weber    |     Wb      |      wb      | Flujo magnético         | Bobina                |\n",
    "\n",
    " \n",
    "#  Valores iniciales\n",
    " \n",
    "#  Aparecen justo al final de la definición del componente (`ic`). Suelen aplicarse principalmente con condensadores.\n",
    "\n",
    "#  ```\n",
    "#  * Una condensador inicialmente no cargado\n",
    "#  c 1 0 1u ic=0\n",
    "#  ```\n",
    "# \n",
    "#  Fin del circuito\n",
    "# \n",
    "#  El fin de la descripción de un netlist se especifica mediante el\n",
    "#  comando `.end`.\n",
    "# \n",
    "#  ```spice\n",
    "#  * Mi primer circuito\n",
    "#  V 1 0 vdc=10 type=vdc\n",
    "#  R 1 0 5\n",
    "#  * Fin del circuito\n",
    "#  .end\n",
    "#  ```\n",
    " \n",
    "\n",
    "#  Comandos SPICE para circuitos en corriente continua\n",
    "# \n",
    "#  Además de la descripción del circuito, hemos de indicar al intérprete de Spice qué\n",
    "#  tipo de análisis queremos realizar en sobre el mismo y cómo queremos presentar\n",
    "#  la salida de la simulación. Los comandos en Spice empiezan por un `.` y suelen\n",
    "#  escribirse justo al final del circuito, pero antes del comando `.end`.\n",
    " \n",
    "#  ```\n",
    "#   Mi primer circuito\n",
    "#  * Aquí van los componentes\n",
    "#  R 1 0 6k\n",
    "#  ...\n",
    "#  * Comandos\n",
    "#  .op\n",
    "#  ...\n",
    "#  * Fin del circuito\n",
    "#  .end\n",
    "#  ```\n",
    " \n",
    "#  > **Pregunta**: Hasta lo que has visto del lenguaje Spice, ¿dentro de qué tipo o conjunto de lenguajes encajaría? ¿Funcionales? ¿Específicos de dominio? ¿Procedurales? ¿Estructurados? ¿Orientado a Objetos ¿Funcionales? Justifica tu respuesta.\n",
    "\n",
    "   - SPICE es un lenguaje Funcional y de dominio especíﬁco ya que trabaja con funciones como .op .tran .dc y resuelve  un problema muy especiﬁco de datos de electrónica. \n",
    "\n",
    "\n",
    "#  Veamos los principales comandos de simulación:\n",
    " \n",
    "#  - `.op` es el comando más sencillo que podemos emplear en. Devuelve el voltaje e intensidad en cada ramal y componente del circuito. Este comando no necesita parámetros.\n",
    "#  - `.dc` es uy parecido al comando `.op` pero nos permite cambiar el valor del voltaje de una fuente de alimentación en pasos consecutivos entre el valor A y el valor B.\n",
    "#  En el caso de que la fuente tuviera asignada ya un valor para su voltaje, este sería ignorado. Ejemplo: \n",
    " \n",
    "#  ```spice\n",
    "#  * Variamos el valor del voltaje\n",
    "#  * de la fuente \"v\" de 1 a 1000\n",
    "#  * en pasos de 5 voltios\n",
    "#  v 1 0 type=vdc vdc=10\n",
    "#  .dc v 1 start=1 stop=1000 step=20\n",
    "#  v2a 2 4 type=vdc vdc=9\n",
    "#  * Igual para v2a. Se ignora su voltaje de 9V\n",
    "#  .dc v2a start=0 stop=10 step=2\n",
    "#  ```\n",
    " \n",
    "#  - El comando `.tran` realiza un análisis en el tiempo de los parámetros del\n",
    "#  circuito. Si no se emplea la directiva `uic` (*use initial conditions*) o esta es igual a cero, este análisis se realiza desde el punto estable de funcionamiento del circuito hasta un tiempo `tfinal`.\n",
    "#  y en intervalos `tstep`. Si empleamos un varlor distinto para parámetro `uic`,\n",
    "#  entonces se hará uso de las condiciones iniciales definidas para cada componente\n",
    "#   (típicamente `ic=X` en el caso de los condensadores, que da cuenta de la carga incial que estos pudieran tener).\n",
    "  \n",
    "#  ```\n",
    "#  * Hacemos avanzar el tiempo entre\n",
    "#  * tinicial y tfinal en pasos tstep\n",
    "#  .tran tstart=X tstop=Y tstep=Z uic=0/1/2/3\n",
    "#  ```\n",
    " \n",
    "#  `X`, `Y` y `Z` tienen, evidentemente unidades de tiempo en el S.I. (segundos).\n",
    " \n",
    "#  > **Pregunta**: El parámetro `uic` puede tener varios valores y cada uno significa una cosa. Detállalo usando un celda Markdown y consultando la [documentación de Ahkab](https://buildmedia.readthedocs.org/media/pdf/ahkab/latest/ahkab.pdf).\n",
    "  - UIC (Use Initial Conditions): esto es usado para especificar el estado del circuito en el tiempo t = tstart.\n",
    "    Los valores disponibles son 0, 1, 2 or 3.\n",
    "   * uic=0: se supondrá que todas las tensiones y corrientes de los nodos a través de v/h/e/fuentes son cero a t = tstart\n",
    "   * uic=1: el estado en 't = tstart es el último resultado de un análisis OP.\n",
    "   * uic=2: el estado en t = tstart es el último resultado de un análisis OP en el que se fijan los valores de corrientes a través de inductores y tensiones en condensadores especificados en sus ic. Esto se hace muy a grandes rasgos, se recomienda su comprobación.\n",
    "    - uic=3: Cargar un ic suministrado por el usuario. Esto requiere una directiva .ic en algún lugar de la lista de la red y una directiva, el nombre de .ic y la etiqueta ic_label deben coincidir.\n",
    "\n",
    "    \n",
    "#  Intérprete SPICE que vamos a usar: Ahkab\n",
    "#  Tras un estándar siempre hay una o varias implementaciones. Ahkab no deja de ser una implmentación más en Python del estándar Spice.\n",
    "#  > **Pregunta:** Comenta las distintas implementaciones de lenguajes y estándares que conozcas. Hazlo usando una tabla en Markdown. [Aquí](https://www.markdownguide.org/extended-syntax/#tables) tienes un poco de ayuda (aunque antes ya se ha puesto el ejemplo de una tabla).\n",
    "#  \n",
    "\n",
    " | Estandar   |  Implementación  | Lenguage  |\n",
    "    |   :-:     |   :-:     |    :-:      | \t \t\t\n",
    "    |   K \t\t|\tkilo\t| 10$^{3}$    |\n",
    "    |   MG \t    |\tmega    | 10$^{6}$    |\n",
    "    |   G \t\t|\tgiga    | 10$^{9}$    |\n",
    "    |   T \t\t|\ttera    | 10$^{12}$   |\n",
    "    |   m \t\t|\tmili    | 10$^{-3}$   |\n",
    "    |   u \t\t|\tmicro   | 10$^{-6}$   |\n",
    "    |   n \t\t|\tnano    | 10$^{-9}$   |\n",
    "    |   p \t\t|\tpico    | 10$^{-12}$  |\n",
    "    |   f \t\t|\tfemto   | 10$^{-15}$  |\n",
    "\n",
    "\n",
    "\n",
    "\n",
    "#  > **Pregunta:** Describe brevemente este software (creador, objetivos, versiones, licencia, características principales, dependencias, etc.).\n",
    "   - El simulador de circuitos de ahkab es un experimento, en su propia documentación dejan claro que ellos no esperan llegar a ser un simulador convencional, pues para eso ya existen estos mismos.\n",
    "   - Además cito: \"Este proyecto nació cuando yo era un estudiante universitario entusiasta, aparentemente con mucho tiempo libre, que asistía a la \"Simulazione Circuitale\" (Simulación de Circuitos) impartida por el Prof. A. Brambilla en Italia, en la Universidad Politécnica de Milán. Agradezco al profesor. Brambilla por enseñar uno de los cursos más interesantes de mis años universitarios. -...GV\"\n",
    "\n",
    "  - Es de licencia GNU General Public License (GPL)\n",
    "   * Autores: Giuseppe Venturini, con contribución de Ian Daniher, Rob Crowther y otros.\n",
    "   * Code: Ahkab redistributes the module py3compat.py, which is (c) 2013 - the Jinja team.\n",
    "\n",
    "#  Trabajo práctico\n",
    "#  Muy bien, ahora toca definir circuitos y ejecutar simulaciones sobre los mismos gracias a Ahkab.\n",
    "#  ## Instalación de bibliotecas necesarias\n",
    "#  Si estás utilizando Anaconda, asegúrate de tener su entorno activado:\n",
    "  \n",
    "#  ```cmd\n",
    "#  C:\\> conda activate base (en el caso de Windows)\n",
    "#  ```\n",
    "#  ó\n",
    " \n",
    "#  ```bash\n",
    "#  $ source /usr/local/Caskroom/miniconda/base/bin/activate (en el caso de macOS)\n",
    "#  ```\n",
    "# \n",
    "#  En el caso de Windows tienes que tener en el PATH el directorio donde se encuentre el comando `conda` (visita la sección de [Environment Variables](https://superuser.com/questions/949560/how-do-i-set-system-environment-variables-in-windows-10) del [Panel de Control](https://www.digitalcitizen.life/8-ways-start-control-panel-windows-10)). Si has instalado Anaconda con [esta opción](https://docs.anaconda.com/_images/win-install-options.png) marcada, ya no tienes que preocuparte por ello. \n",
    "# \n",
    "#  Ahora ya puedes instalar Ahkab:\n",
    "# \n",
    "#  ```\n",
    "#  (base) $ pip install ahkab\n",
    "#  ```\n",
    "\n",
    "#  Como siempre, una vez instalado cualquier framework para Python, ya lo podemos utilizar, tanto desde el [REPL](https://en.wikipedia.org/wiki/Read–eval–print_loop) como desde un entorno Jupyter (Jupyter, [Jupyterlab](http://jupyterlab.readthedocs.io/en/stable/), VS Code o nteract). Recuerda que para usar el kernel Python (que viene con Anaconda) desde nteract debes seguir las instrucciones que se indican en su [documentación oficial](https://nteract.io/kernels).  \n",
    "\n"
   ]
  },
  {
   "cell_type": "code",
   "execution_count": 253,
   "metadata": {},
   "outputs": [],
   "source": [
    "\n",
    "import pylab as plt\n",
    "import ahkab\n"
   ]
  },
  {
   "cell_type": "markdown",
   "metadata": {},
   "source": [
    "# También vamos a importar Sympy para hacer algún cálculo más *manual* más adelante:"
   ]
  },
  {
   "cell_type": "code",
   "execution_count": 254,
   "metadata": {},
   "outputs": [],
   "source": [
    "import sympy.physics.units as u\n",
    "from sympy.physics.units import Dimension \n",
    "from sympy import * \n",
    "from sympy.physics.units import convert_to"
   ]
  },
  {
   "cell_type": "markdown",
   "metadata": {},
   "source": [
    "#  > **Pregunta:** ¿Qué es y para qué sirve PyLab?\n",
    "    \n",
    "    Exite una gran variedad de módulos para hacer gráficos de todo tipo con Python, \n",
    "    pero el estándar de facto en ciencia es matplotlib. Se trata de un paquete grande \n",
    "    y relativamente complejo que entre otros contiene dos módulos principales, pyplot y pylab.\n",
    "    Se recomienda usar pylab cuando se trabaja interactivamente:\n",
    "    Ejemplo del gráfico más sencillo posible:\n",
    "\n",
    "     from pylab import *      # importar todas las funciones de pylab\n",
    "     x = arange(10.)          # array de floats, de 0.0 a 9.0\n",
    "     plot(x)                  # generar el gráfico de la función y=x\n",
    "     show()                   # mostrar el gráfico en pantalla"
   ]
  },
  {
   "cell_type": "markdown",
   "metadata": {},
   "source": [
    "# La *mal llamada* ley de Ohm reza que el voltaje (la *energía por unidad de carga*) que se disipa en un tramo de un circuito eléctrico es equivalente a la intensidad ($I$) de la corriente (es decir, cuántos electrones circulan por unidad de tiempo) por la resistencia del material ($R$) en el que está desplazándose dicha corriente. Matemáticamente:\n",
    " \n",
    "  $$\n",
    "      V = I \\cdot R\n",
    "  $$"
   ]
  },
  {
   "cell_type": "markdown",
   "metadata": {},
   "source": [
    "#  > **Pregunta:** comprueba que la ecuación anterior está ajustada a nivel dimensional, es decir, que la naturaleza de lo que está a ambos lados del signo igual es la misma. Realiza este ejercicio con LaTeX en una celda Markdown.\n",
    "$$\n",
    "    V=voltios, A=amperios,  \\Omega=ohmios\n",
    "$$\n",
    "   $$ \n",
    "        V = IA \\cdot R \\Omega  \n",
    "   $$\n",
    "   \n",
    "   $$ \n",
    "        R \\Omega = \\frac{V}{IA}  \n",
    "   $$\n",
    "   \n",
    "   $$ \n",
    "        IA = \\frac{V}{R\\Omega}   \n",
    "   $$"
   ]
  },
  {
   "cell_type": "code",
   "execution_count": 255,
   "metadata": {},
   "outputs": [
    {
     "name": "stdout",
     "output_type": "stream",
     "text": [
      "Overwriting circuito sencillo.sp\n",
      "[{'type': 'op', 'guess': True, 'x0': None}, {'type': 'dc', 'source': 'v1', 'start': 0.0, 'stop': 9.0, 'step': 1.0, 'sweep_type': 'LIN'}]\n"
     ]
    }
   ],
   "source": [
    "#  Comencemos con el circuito más sencillo posible de todos:\n",
    "# \n",
    "#  ![](https://raw.githubusercontent.com/pammacdotnet/spicelab/master/primer%20circuito.svg?sanitize=true)\n",
    "# \n",
    "#  Vamos a escribir su contenido (componentes o *netlist*) en disco con el nombre `circuito sencillo.sp`. Esto lo podemos lograr directamente y en tiempo real desde una celda de Jupyter gracias a los *comandos mágicos* de este entorno de programación literaria. En concreto vamos a utilizar `%%writefile` que guarda los contenidos de una celda como un fichero. \n",
    "\n",
    "# %%\n",
    "get_ipython().run_cell_magic('writefile', '\"circuito sencillo.sp\"', '* Este es un circuito sencillo\\nr1 1 0 100\\nv1 0 1 type=vdc vdc=9\\n.op\\n.dc v1 start=0 stop=9 step=1\\n.end')\n",
    "\n",
    "# %% [markdown]\n",
    "# Ahora vamos a leer su descripción con Ahkab, interpretar y ejecutar las simulaciones que en él estén descritas.\n",
    "\n",
    "# %%\n",
    "circuito_y_análisis = ahkab.netlist_parser.parse_circuit('circuito sencillo.sp')\n",
    "\n",
    "# %% [markdown]\n",
    "#  Separamos la información del netlist (componentes) de los análisis (uno de tipo `op` y otro de tipo `dc`):\n",
    "\n",
    "# %%\n",
    "circuito = circuito_y_análisis[0]\n",
    "análisis_en_netlist = circuito_y_análisis[1]\n",
    "lista_de_análisis = ahkab.netlist_parser.parse_analysis(circuito, análisis_en_netlist)\n",
    "print(lista_de_análisis)"
   ]
  },
  {
   "cell_type": "markdown",
   "metadata": {},
   "source": [
    "# > **Pregunta:** ¿qué tipo de estructura de Python es `lista_de_análisis`?\n",
    "      - Un Array de objectos "
   ]
  },
  {
   "cell_type": "markdown",
   "metadata": {},
   "source": [
    "#  Las simulaciones que implican listas de datos (`.dc`, `.tran`, etc.) necesitan de un fichero temporal (`outfile`)\n",
    "#  donde almacenar los resultados. Para ello tenemos que definir la propiedad `outfile`."
   ]
  },
  {
   "cell_type": "code",
   "execution_count": 256,
   "metadata": {},
   "outputs": [],
   "source": [
    "lista_de_análisis[1]['outfile'] = \"simulación dc.tsv\""
   ]
  },
  {
   "cell_type": "markdown",
   "metadata": {},
   "source": [
    "#  > **Pregunta:** escribe el código Python necesario para identificar qué análisis de `lista_de_análisis`\n",
    "#  son de tipo `dc` ó `tran` y sólo añadir la propiedad `outfile` en estos casos.\n",
    "# Aquí tenéis un post de Stackoverflow con algo de [ayuda](https://stackoverflow.com/questions/49194107/how-to-find-index-of-a-dictionary-key-value-within-a-list-python).\n",
    "#  Un poco más de ayuda: el siguiente código (sí, una única línea) devuelve el índice de la simulación que es de tipo `dc`. Para simplificar un poco el ejercicio, suponed que, como máximo, habrá un análisis de tipo `tran` y/o `dc`."
   ]
  },
  {
   "cell_type": "code",
   "execution_count": 257,
   "metadata": {},
   "outputs": [
    {
     "data": {
      "text/plain": [
       "1"
      ]
     },
     "execution_count": 257,
     "metadata": {},
     "output_type": "execute_result"
    }
   ],
   "source": [
    "[i for i, d in enumerate(lista_de_análisis) if \"dc\" in d.values()][0] "
   ]
  },
  {
   "cell_type": "markdown",
   "metadata": {},
   "source": [
    "# Una vez que ya hemos separado netlists de simulaciones, ahora ejecutamos las segundas (¡todas a la vez!) gracias al método `.run` de Ahkab: "
   ]
  },
  {
   "cell_type": "code",
   "execution_count": 258,
   "metadata": {},
   "outputs": [
    {
     "name": "stdout",
     "output_type": "stream",
     "text": [
      "Starting op analysis:\n",
      "Calculating guess: skipped. (linear circuit)\n",
      "Solving...   done.\n",
      "Solving...   done.\n",
      "Difference check within margins.\n",
      "(Voltage: er=0.001, ea=1e-06, Current: er=0.001, ea=1e-09)\n",
      "Starting DC analysis:\n",
      "Solving...  done\n"
     ]
    }
   ],
   "source": [
    "resultados = ahkab.run(circuito, lista_de_análisis)"
   ]
  },
  {
   "cell_type": "markdown",
   "metadata": {},
   "source": [
    "# ### Resultados de la simulación `.dc`\n",
    "# Imprimimos información sobre la simulación de tipo `.dc`:"
   ]
  },
  {
   "cell_type": "code",
   "execution_count": 259,
   "metadata": {},
   "outputs": [
    {
     "name": "stdout",
     "output_type": "stream",
     "text": [
      "<DC simulation results for '* este es un circuito sencillo' (netlist circuito sencillo.sp). LIN sweep of V1 from 0 to 9 V. Run on 2019-12-17 19:34:41, data file simulación dc.tsv>\n"
     ]
    }
   ],
   "source": [
    "print(resultados['dc'])"
   ]
  },
  {
   "cell_type": "markdown",
   "metadata": {},
   "source": [
    "#  Veamos qué variables podemos dibujar para el caso del análisis `dc`."
   ]
  },
  {
   "cell_type": "code",
   "execution_count": 260,
   "metadata": {},
   "outputs": [
    {
     "name": "stdout",
     "output_type": "stream",
     "text": [
      "['V1', 'V1', 'I(V1)']\n"
     ]
    }
   ],
   "source": [
    "print(resultados['dc'].keys())"
   ]
  },
  {
   "cell_type": "markdown",
   "metadata": {},
   "source": [
    "# Y ahora graficamos el resultado del análisis anterior. Concretamente vamos a representar el voltaje en el borne 1 (`V1`) con respecto a la intensidad del circuito (`I(V1)`)."
   ]
  },
  {
   "cell_type": "code",
   "execution_count": 261,
   "metadata": {},
   "outputs": [
    {
     "data": {
      "text/plain": [
       "[<matplotlib.lines.Line2D at 0x1be7f11df60>]"
      ]
     },
     "execution_count": 261,
     "metadata": {},
     "output_type": "execute_result"
    },
    {
     "data": {
      "image/png": "[encoded data removed]",
      "text/plain": [
       "<Figure size 432x288 with 1 Axes>"
      ]
     },
     "metadata": {},
     "output_type": "display_data"
    }
   ],
   "source": [
    "figura = plt.figure()\n",
    "plt.title(\"Prueba DC\")\n",
    "plt.xlabel('Segundos')\n",
    "plt.ylabel('Intencidad')\n",
    "plt.plot(resultados['dc']['V1'], resultados['dc']['I(V1)'], label=\"Voltaje (V1)\")"
   ]
  },
  {
   "cell_type": "markdown",
   "metadata": {},
   "source": [
    "# > **Pregunta:** comenta la gráfica anterior… ¿qué estamos viendo exactamente? Etiqueta los ejes de la misma convenientemente. Así como ningún número puede *viajar* solo sin hacer referencia a su naturaleza, ninguna gráfica puede estar sin sus ejes convenientemente etiquetados. Algo de [ayuda](https://matplotlib.org/3.1.0/gallery/pyplots/fig_axes_labels_simple.html)\n",
    "\n",
    " - Voltios en el eje x, y Intencidad en el eje y.\n",
    "\n",
    "# . ¿Qué biblioteca estamos usando para graficar? Una [pista](https://matplotlib.org).\n",
    "   - matplotlib concretamente el modulo de pylab\n",
    "\n",
    "#  ### Resultados de la simulación `.op` \n",
    "#  El método `.results` nos devuelve un diccionario con los resultados de la simulación."
   ]
  },
  {
   "cell_type": "code",
   "execution_count": 262,
   "metadata": {},
   "outputs": [
    {
     "name": "stdout",
     "output_type": "stream",
     "text": [
      "{V1: -9.0, I(V1): -0.09}\n"
     ]
    }
   ],
   "source": [
    "print(resultados['op'].results)"
   ]
  },
  {
   "cell_type": "markdown",
   "metadata": {},
   "source": [
    "#  > **Pregunta:** justifica el sencillo resultado anterior (análisis `op`). Repite el cálculo con Sympy, atendiendo con mimo a las unidades y al formateo de los resultados (tal y como hemos visto en muchos otros notebooks en clase).\n",
    "\n",
    "# Análisis de circuito con resistencias en serie\n",
    "\n",
    "# Vamos a resolver (en punto de operación) el siguiente circuito:\n",
    " \n",
    "# ![](https://raw.githubusercontent.com/pammacdotnet/spicelab/master/resistencias%20en%20serie.svg?sanitize=true)\n",
    "\n",
    "# Al igual que antes, grabamos el netlist en disco desde Jupyter gracias a la *palabra mágica* [`%writefile`](https://ipython.readthedocs.io/en/stable/interactive/magics.html#cellmagic-writefile). "
   ]
  },
  {
   "cell_type": "code",
   "execution_count": 263,
   "metadata": {},
   "outputs": [
    {
     "name": "stdout",
     "output_type": "stream",
     "text": [
      "Overwriting resistencias en serie.net\n",
      "Starting op analysis:\n",
      "Calculating guess: skipped. (linear circuit)\n",
      "Solving...   done.\n",
      "Solving...   done.\n",
      "Difference check within margins.\n",
      "(Voltage: er=0.001, ea=1e-06, Current: er=0.001, ea=1e-09)\n"
     ]
    }
   ],
   "source": [
    "get_ipython().run_cell_magic('writefile', '\"resistencias en serie.net\"', '* circuito con tres resistencias en serie\\nv1 1 0 type=vdc vdc=9\\nR1 0 2 3k\\nR2 2 3 10k  \\nR3 3 1 5k\\n* análisis del circuito\\n.op\\n.end')\n",
    "\n",
    "circuito_y_análisis = ahkab.netlist_parser.parse_circuit('resistencias en serie.net')\n",
    "circuito = circuito_y_análisis[0]       \n",
    "análisis_en_netlist = circuito_y_análisis[1]\n",
    "lista_de_análisis = ahkab.netlist_parser.parse_analysis(circuito, análisis_en_netlist)\n",
    "resultados = ahkab.run(circuito, lista_de_análisis)"
   ]
  },
  {
   "cell_type": "markdown",
   "metadata": {},
   "source": [
    "# Imprimos los resultados del análisis `.op`:"
   ]
  },
  {
   "cell_type": "code",
   "execution_count": 264,
   "metadata": {},
   "outputs": [
    {
     "name": "stdout",
     "output_type": "stream",
     "text": [
      "OP simulation results for '* circuito con tres resistencias en serie'(netlist resistencias en serie.net).\n",
      "Run on 2019-12-17 19:34:43, data file None.\n",
      "Variable    Units      Value     Error    %\n",
      "----------  -------  -------  --------  ---\n",
      "V1          V         9       -9e-12      0\n",
      "V2          V         1.5     -1.5e-12    0\n",
      "V3          V         6.5     -6.5e-12    0\n",
      "I(V1)       A        -0.0005   0          0\n"
     ]
    }
   ],
   "source": [
    "print(resultados['op'])"
   ]
  },
  {
   "cell_type": "markdown",
   "metadata": {},
   "source": [
    "# Los cantidades `V1`, `V2` y `V3` hacen referencia a los distintos valores del potencial que se ha perdido en cada uno de los bornes que has elegido para describir el netlist (`1`, `2`, etc.). Por ejemplo, podemos calcular el *potencial consumido* por la resistencia `R1` y verás que coincide con el del punto `V2` devuelto por Ahkab. "
   ]
  },
  {
   "cell_type": "code",
   "execution_count": 265,
   "metadata": {},
   "outputs": [
    {
     "name": "stdout",
     "output_type": "stream",
     "text": [
      "-1.5⋅volt\n"
     ]
    }
   ],
   "source": [
    "r1 = 3E3*u.ohms\n",
    "intensidad_ahkab = resultados['op']['I(V1)'][0][0]*u.ampere\n",
    "v2 = convert_to(intensidad_ahkab*r1, [u.volt])\n",
    "pprint(v2)"
   ]
  },
  {
   "cell_type": "markdown",
   "metadata": {},
   "source": [
    "#  > **Pregunta**: reproduce el resto de los valores anteriores de manera *manual* mediante Sympy (es decir, aplicando la ley de Ohm, pero con tun *toque computacional*). Te pongo aquí un ejemplo del que puedes partir… En él sólo calculo la corriente que circula por el circuito (sí, justo la que antes Ahkab ha devuelto de manera automática). Para ello necesito previamente computar la resistencia total (`r_total`). Faltarían el resto de resultados y convertirlos a unidades más *vistosas* (mediante la orden `convert_to` y `.n()`)."
   ]
  },
  {
   "cell_type": "code",
   "execution_count": 266,
   "metadata": {},
   "outputs": [
    {
     "name": "stdout",
     "output_type": "stream",
     "text": [
      "                             -1\n",
      "0.5⋅ampere⋅Prefix(kilo, k, 3)  \n"
     ]
    }
   ],
   "source": [
    "v1 = 9*u.volts\n",
    "r1 = 3*u.kilo*u.ohms\n",
    "r2 = 10*u.kilo*u.ohms\n",
    "r3 = 5*u.kilo*u.ohms\n",
    "r_total = r1 + r2 + r3\n",
    "intensidad = u.Quantity('i', u.current)\n",
    "#intensidad.set_dimension(u.current)\n",
    "ley_ohm = Eq(v1, intensidad*r_total)\n",
    "solucion_para_intensidad = solve(ley_ohm, intensidad)\n",
    "pprint(convert_to(solucion_para_intensidad[0], [u.ampere]).n(2))"
   ]
  },
  {
   "cell_type": "markdown",
   "metadata": {},
   "source": [
    "\n",
    "# > **Pregunta**: Demuestra que se cumple la Ley de Kirchhoff de la energía en un circuito, es decir, que la suma de la energía suministrada por las fuentes (pilas) es igual a la consumida por las resistencias. Realiza la operación con Sympy.\n",
    " \n",
    " $$\n",
    "     \\sum_i^N V_{\\text{fuentes}} = \\sum_j^M V_{\\text{consumido en resistencias}}\n",
    " $$\n",
    " \n",
    " \n",
    "# Ten en cuenta que en este caso sólo hay una fuente.\n",
    "\n",
    "# Análisis `.op` de circuitos con resistencias en paralelo\n",
    " \n",
    "# Vamos a complicar un poco el trabajo añadiendo elementos en paralelo.\n",
    " \n",
    "#  > **Pregunta**: realiza los análisis `.op` de los siguientes circuitos.\n",
    "#  Para ello crea un netlist separado para cada uno donde queden correctamente descritos\n",
    "#  junto con la simulación (`.op`). Comenta los resultados que devuelve Ahkab (no imprimas los resultados de las simulaciones *sin más*). \n",
    "#  ![](https://raw.githubusercontent.com/pammacdotnet/spicelab/master/resistencias%20en%20paralelo.svg?sanitize=true)\n",
    " \n",
    "#  Aquí tienes el análisis del primer circuito, para que sirva de ejemplo:"
   ]
  },
  {
   "cell_type": "code",
   "execution_count": 267,
   "metadata": {},
   "outputs": [
    {
     "name": "stdout",
     "output_type": "stream",
     "text": [
      "Overwriting resistencias en paralelo 1.cir\n"
     ]
    }
   ],
   "source": [
    "get_ipython().run_cell_magic('writefile', '\"resistencias en paralelo 1.cir\"', '* resistencias en paralelo\\nvdd 0 1 vdc=12 type=vdc\\nr2 1 2 1k\\nr3 2 3 220\\nr4 3 0 1.5k\\nr5 2 0 470\\n.op\\n.end')"
   ]
  },
  {
   "cell_type": "code",
   "execution_count": 268,
   "metadata": {},
   "outputs": [
    {
     "name": "stdout",
     "output_type": "stream",
     "text": [
      "Starting op analysis:\n",
      "Calculating guess: skipped. (linear circuit)\n",
      "Solving...   done.\n",
      "Solving...   done.\n",
      "Difference check within margins.\n",
      "(Voltage: er=0.001, ea=1e-06, Current: er=0.001, ea=1e-09)\n"
     ]
    }
   ],
   "source": [
    "circuito_y_análisis = ahkab.netlist_parser.parse_circuit('resistencias en paralelo 1.cir')\n",
    "circuito = circuito_y_análisis[0]       \n",
    "análisis_en_netlist = circuito_y_análisis[1]\n",
    "lista_de_análisis = ahkab.netlist_parser.parse_analysis(circuito, análisis_en_netlist)\n",
    "resultados = ahkab.run(circuito, lista_de_análisis)"
   ]
  },
  {
   "cell_type": "markdown",
   "metadata": {},
   "source": [
    "# Imprimimos los resultados del análisis `.op`. Como puedes comprobar, Ahkab sólo reporta la intensidad de corriente en las ramas en las que hay una pila (en este caso, la rama donde está la pila `VDD`)."
   ]
  },
  {
   "cell_type": "code",
   "execution_count": 269,
   "metadata": {},
   "outputs": [
    {
     "name": "stdout",
     "output_type": "stream",
     "text": [
      "OP simulation results for '* resistencias en paralelo'(netlist resistencias en paralelo 1.cir).\n",
      "Run on 2019-12-17 19:34:45, data file None.\n",
      "Variable    Units           Value        Error    %\n",
      "----------  -------  ------------  -----------  ---\n",
      "V1          V        -12           1.2e-11        0\n",
      "V2          V         -3.23533     3.23533e-12    0\n",
      "V3          V         -2.8215      2.82151e-12    0\n",
      "I(VDD)      A         -0.00876467  0              0\n"
     ]
    }
   ],
   "source": [
    "print(resultados['op'])"
   ]
  },
  {
   "cell_type": "code",
   "execution_count": 270,
   "metadata": {},
   "outputs": [
    {
     "name": "stdout",
     "output_type": "stream",
     "text": [
      "Overwriting resistencias en paralelo 2.cir\n"
     ]
    }
   ],
   "source": [
    "get_ipython().run_cell_magic('writefile', '\"resistencias en paralelo 2.cir\"', '* resistencias en paralelo 2\\nv1 1 0 vdc=9 type=vdc\\nv2 5 0 vdc=1.5 type=vdc\\nr1 1 2 47\\nr2 2 0 220\\nr3 2 3 180\\nr4 3 4 1k\\nr5 4 0 580\\n.op\\n.end')"
   ]
  },
  {
   "cell_type": "code",
   "execution_count": 271,
   "metadata": {},
   "outputs": [
    {
     "name": "stdout",
     "output_type": "stream",
     "text": [
      "Starting op analysis:\n",
      "Calculating guess: skipped. (linear circuit)\n",
      "Solving...   done.\n",
      "Solving...   done.\n",
      "Difference check within margins.\n",
      "(Voltage: er=0.001, ea=1e-06, Current: er=0.001, ea=1e-09)\n"
     ]
    }
   ],
   "source": [
    "circuito_y_análisis = ahkab.netlist_parser.parse_circuit('resistencias en paralelo 2.cir')\n",
    "circuito = circuito_y_análisis[0]       \n",
    "análisis_en_netlist = circuito_y_análisis[1]\n",
    "lista_de_análisis = ahkab.netlist_parser.parse_analysis(circuito, análisis_en_netlist)\n",
    "resultados = ahkab.run(circuito, lista_de_análisis)"
   ]
  },
  {
   "cell_type": "code",
   "execution_count": 272,
   "metadata": {},
   "outputs": [
    {
     "name": "stdout",
     "output_type": "stream",
     "text": [
      "OP simulation results for '* resistencias en paralelo 2'(netlist resistencias en paralelo 2.cir).\n",
      "Run on 2019-12-17 19:34:46, data file None.\n",
      "Variable    Units         Value         Error    %\n",
      "----------  -------  ----------  ------------  ---\n",
      "V1          V         9          -9.00002e-12    0\n",
      "V5          V         1.5        -1.5e-12        0\n",
      "V2          V         7.25607    -7.25605e-12    0\n",
      "V3          V         6.51397    -6.51398e-12    0\n",
      "V4          V         2.3912     -2.3912e-12     0\n",
      "I(V1)       A        -0.0371049   0              0\n",
      "I(V2)       A         0           0              0\n"
     ]
    }
   ],
   "source": [
    "print(resultados['op'])"
   ]
  },
  {
   "cell_type": "code",
   "execution_count": 273,
   "metadata": {},
   "outputs": [
    {
     "name": "stdout",
     "output_type": "stream",
     "text": [
      "Overwriting resistencias en paralelo 3.cir\n"
     ]
    }
   ],
   "source": [
    "get_ipython().run_cell_magic('writefile', '\"resistencias en paralelo 3.cir\"', '* resistencias en paralelo 3\\nv0 0 1 vdc=9 type=vdc\\nv1 1 2 vdc=0 type=vdc\\nv2 2 3 vdc=0 type=vdc\\nv3 3 4 vdc=0 type=vdc\\nr1 2 3 10k\\nr2 1 2 2k\\nr3 0 1 1k\\n.op\\n.end')"
   ]
  },
  {
   "cell_type": "code",
   "execution_count": 274,
   "metadata": {},
   "outputs": [
    {
     "name": "stdout",
     "output_type": "stream",
     "text": [
      "Starting op analysis:\n",
      "Calculating guess: skipped. (linear circuit)\n",
      "Solving...   done.\n",
      "Solving...   done.\n",
      "Difference check within margins.\n",
      "(Voltage: er=0.001, ea=1e-06, Current: er=0.001, ea=1e-09)\n"
     ]
    }
   ],
   "source": [
    "circuito_y_análisis = ahkab.netlist_parser.parse_circuit('resistencias en paralelo 3.cir')\n",
    "circuito = circuito_y_análisis[0]       \n",
    "análisis_en_netlist = circuito_y_análisis[1]\n",
    "lista_de_análisis = ahkab.netlist_parser.parse_analysis(circuito, análisis_en_netlist)\n",
    "resultados = ahkab.run(circuito, lista_de_análisis)"
   ]
  },
  {
   "cell_type": "code",
   "execution_count": 275,
   "metadata": {},
   "outputs": [
    {
     "name": "stdout",
     "output_type": "stream",
     "text": [
      "OP simulation results for '* resistencias en paralelo 3'(netlist resistencias en paralelo 3.cir).\n",
      "Run on 2019-12-17 19:34:47, data file None.\n",
      "Variable    Units           Value    Error    %\n",
      "----------  -------  ------------  -------  ---\n",
      "V1          V        -9              9e-12    0\n",
      "V2          V        -9              9e-12    0\n",
      "V3          V        -9              9e-12    0\n",
      "V4          V        -9              9e-12    0\n",
      "I(V0)       A        -0.009          0        0\n",
      "I(V1)       A         3.25261e-19    0        0\n",
      "I(V2)       A         0              0        0\n",
      "I(V3)       A         0              0        0\n"
     ]
    }
   ],
   "source": [
    "print(resultados['op'])"
   ]
  },
  {
   "cell_type": "markdown",
   "metadata": {},
   "source": [
    "# > **Pregunta:** inserta dos *pilas virtuales* de 0 voltios en el resto de ramas del circuito (`Vdummy1` en la rama donde está `R5` y `Vdummy2` en la rama donde está `R3` y `R4`) para que Ahkab nos imprima también la corriente en las mismas. Es muy parecido al tercer circuito que tienes que resolver, donde `V1`, `V2` y `V3` tienen cero voltios. Estas *pilas nulas* son, a todos los efectos, *simples cables*. Una vez que ya tienes las corrientes en todas las ramas, comprueba que se cumple la Ley de Kirchhoff para las corrientes:\n",
    "\n",
    " $$\n",
    "     I_{\\text{entrante}} = \\sum_i^{N} I_{\\text{salientes}}\n",
    " $$\n",
    " \n",
    "# Repite lo mismo para los otros dos circuitos. Realiza además los cálculos con Sympy (recalcula los mismos voltajes que devuelve Ahkab a partir de la corriente que sí te devuelve la simulación) y cuidando de no olvidar las unidades. Recuerda que el objeto `resultados` alberga toda la información que necesitas de manera indexada. Ya han aparecido un ejemplo más arriba. Es decir: no *copies* los números *a mano*, trabaja de manera informáticamente elegante (usando la variable `resultados`). \n",
    "\n",
    "#   Circuitos en DC que evolucionan con el tiempo\n",
    "\n",
    "#   Carga de un condensador\n",
    "#  Vamos a ver qué le pasa a un circuito de corriente continua cuando tiene un condensador\n",
    "#  en serie.\n",
    "\n",
    "#  ![](https://raw.githubusercontent.com/pammacdotnet/spicelab/master/condensador%20en%20continua.svg?sanitize=true)\n",
    " \n",
    "#  Al igual que antes, primero guardamos el circuito en un netlist externo:"
   ]
  },
  {
   "cell_type": "code",
   "execution_count": 276,
   "metadata": {},
   "outputs": [
    {
     "name": "stdout",
     "output_type": "stream",
     "text": [
      "Overwriting condensador en continua.ckt\n"
     ]
    }
   ],
   "source": [
    "get_ipython().run_cell_magic('writefile', '\"condensador en continua.ckt\"', '* Carga condensador\\nv1 0 1 type=vdc vdc=6\\nr1 1 2 1k\\nc1 2 0 1m ic=0\\n.op\\n.tran tstep=0.1 tstop=8 uic=0\\n.end')"
   ]
  },
  {
   "cell_type": "markdown",
   "metadata": {},
   "source": [
    "# > **Pregunta:** ¿qué significa el parámetro `ic=0`? ¿qué perseguimos con un análisis de tipo `.tran`?\n",
    "\n",
    "# Leamos el circuito:"
   ]
  },
  {
   "cell_type": "code",
   "execution_count": 277,
   "metadata": {},
   "outputs": [],
   "source": [
    "circuito_y_análisis = ahkab.netlist_parser.parse_circuit(\"condensador en continua.ckt\")"
   ]
  },
  {
   "cell_type": "markdown",
   "metadata": {},
   "source": [
    "#  Separamos el netlist de los análisis y asignamos un fichero de almacenamiento de datos (`outfile`):"
   ]
  },
  {
   "cell_type": "code",
   "execution_count": 278,
   "metadata": {},
   "outputs": [],
   "source": [
    "circuito = circuito_y_análisis[0]\n",
    "análisis_en_netlist = circuito_y_análisis[1]\n",
    "lista_de_análisis = ahkab.netlist_parser.parse_analysis(circuito, análisis_en_netlist)\n",
    "lista_de_análisis[1]['outfile'] = \"simulación tran.tsv\""
   ]
  },
  {
   "cell_type": "markdown",
   "metadata": {},
   "source": [
    "#  Ejecutamos la simulación:"
   ]
  },
  {
   "cell_type": "code",
   "execution_count": 279,
   "metadata": {},
   "outputs": [
    {
     "name": "stdout",
     "output_type": "stream",
     "text": [
      "Starting op analysis:\n",
      "Calculating guess: skipped. (linear circuit)\n",
      "Solving...   done.\n",
      "Solving...   done.\n",
      "Difference check within margins.\n",
      "(Voltage: er=0.001, ea=1e-06, Current: er=0.001, ea=1e-09)\n",
      "Starting transient analysis: \n",
      "Selected method: TRAP\n",
      "Solving...  done.\n",
      "Average time step: 0.0869565\n",
      "OP simulation results for '* carga condensador'(netlist condensador en continua.ckt).\n",
      "Run on 2019-12-17 19:34:49, data file None.\n",
      "Variable    Units      Value    Error    %\n",
      "----------  -------  -------  -------  ---\n",
      "V1          V             -6    6e-12    0\n",
      "V2          V             -6    6e-12    0\n",
      "I(V1)       A              0    0        0\n"
     ]
    }
   ],
   "source": [
    "resultados = ahkab.run(circuito, lista_de_análisis)\n",
    "print(resultados['op'])\n",
    "#print(resultados['tran'].keys()"
   ]
  },
  {
   "cell_type": "markdown",
   "metadata": {},
   "source": [
    "#  Dibujamos la gráfica de carga del condensador con el tiempo, centrándonos en la intensidad que circula por la pila. "
   ]
  },
  {
   "cell_type": "code",
   "execution_count": 280,
   "metadata": {},
   "outputs": [
    {
     "data": {
      "text/plain": [
       "[<matplotlib.lines.Line2D at 0x1be7f2a06d8>]"
      ]
     },
     "execution_count": 280,
     "metadata": {},
     "output_type": "execute_result"
    },
    {
     "data": {
      "image/png": "[encoded data removed]",
      "text/plain": [
       "<Figure size 432x288 with 1 Axes>"
      ]
     },
     "metadata": {},
     "output_type": "display_data"
    }
   ],
   "source": [
    "figura = plt.figure()\n",
    "plt.title(\"Carga de un condensador\")\n",
    "plt.xlabel('Segundos')\n",
    "plt.ylabel('mA')\n",
    "plt.plot(resultados['tran']['T'], resultados['tran']['I(V1)'], label=\"Una etiqueta\")"
   ]
  },
  {
   "cell_type": "markdown",
   "metadata": {},
   "source": [
    "# > **Pregunta:** Etiqueta los ejes convenientemente y comenta la gráfica. Dibuja otra gráfica con el voltaje en el borne `V1`. ¿Por qué son *opuestas*? ¿Qué le ocurre al voltaje a medida que evoluciona el circuito en el tiempo? Dibuja las gráficas en un formato estándar de representación vectorial (SVG, por ejemplo). Algo de ayuda [aquí](https://ipython.readthedocs.io/en/stable/api/generated/IPython.display.html#IPython.display.set_matplotlib_formats). ¿Qué valores devuelve el análisis de tipo `.op`? Justifícalo.\n",
    "\n",
    "\n",
    "# Carrera de condensadores\n",
    "\n",
    "# Ahora tenemos un circuito con dos condensadores en paralelo: \n",
    "\n",
    "# ![](https://raw.githubusercontent.com/pammacdotnet/spicelab/master/condensadores%20en%20paralelo.svg?sanitize=true)\n",
    "\n",
    "# > **Pregunta:** Crea el netlist de este circuito e identifica qué condensador se satura primero. Dibuja la evolución de la intensidad en ambas ramas de manera simultánea. [Aquí](https://matplotlib.org/gallery/api/two_scales.html) tienes un ejemplo de cómo se hace esto en Matplotlib. Recuerda que para que Ahkab nos devuelva la corriente en una rama, debe de estar presente una pila. Si es necesario, inserta pilas virtuales de valor nulo (cero voltios), tal y como hemos comentado antes. Grafica también los voltajes (en otra gráfica, pero que aparezcan juntos). "
   ]
  },
  {
   "cell_type": "markdown",
   "metadata": {},
   "source": [
    "#  > **Pregunta:** ¿Qué es y para qué sirve PyLab?\n",
    "\n",
    "    PyLab es un conglomerado de varias librerías entre las que se incluyen numpy, scipy, sympy, pandas, matplotlib, ipython. \n",
    "    Con esta suite podemos usar de manera muy parecida al interprete de Python y hacer nuestros .py como si fueran scripts.\n",
    "    Creo que es interesante el uso de PyLab porque es un programa de código abierto por lo cual no dependes de licencias, desde el punto de vista de la eficiencia está comprobado que PyLab consigue mejores rendimientos en el calculo que MatLab en casi todas las operaciones, tiene también la ventaja de servir para Linux y para Windows, además está programando en python por tanto puedes juntar los programas de cálculo con todas las demás opciones que éste ofrece.\n",
    " \n",
    "# Circuitos sencillos para trabjar con la ley de Ohm:\n",
    " \n",
    "#  La *mal llamada* ley de Ohm reza que el voltaje (la *energía por unidad de carga*) que se disipa en un tramo de un circuito eléctrico es equivalente a la intensidad ($I$) de la corriente (es decir, cuántos electrones circulan por unidad de tiempo) por la resistencia del material ($R$) en el que está desplazándose dicha corriente. Matemáticamente:\n",
    "\n",
    " $$\n",
    "     V = I\\cdot R\n",
    " $$\n",
    " \n",
    "#  > **Pregunta:** comprueba que la ecuación anterior está ajustada a nivel dimensional, es decir, que la naturaleza de lo que está a ambos lados del signo igual es la misma. Realiza este ejercicio con LaTeX en una celda Markdown.\n",
    "\n",
    "#  Comencemos con el circuito más sencillo posible de todos:\n",
    "\n",
    "#  ![](https://raw.githubusercontent.com/pammacdotnet/spicelab/master/primer%20circuito.svg?sanitize=true)\n",
    "\n",
    "#  Vamos a escribir su contenido (componentes o *netlist*) en disco con el nombre `circuito sencillo.sp`. Esto lo podemos lograr directamente y en tiempo real desde una celda de Jupyter gracias a los *comandos mágicos* de este entorno de programación literaria. En concreto vamos a utilizar `%%writefile` que guarda los contenidos de una celda como un fichero. \n"
   ]
  },
  {
   "cell_type": "markdown",
   "metadata": {},
   "source": []
  }
 ],
 "metadata": {
  "kernelspec": {
   "display_name": "Python 3",
   "language": "python",
   "name": "python3"
  },
  "language_info": {
   "codemirror_mode": {
    "name": "ipython",
    "version": 3
   },
   "file_extension": ".py",
   "mimetype": "text/x-python",
   "name": "python",
   "nbconvert_exporter": "python",
   "pygments_lexer": "ipython3",
   "version": "3.6.5"
  }
 },
 "nbformat": 4,
 "nbformat_minor": 2
}
